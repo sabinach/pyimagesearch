{
 "cells": [
  {
   "cell_type": "markdown",
   "metadata": {
    "id": "PkIQp0ZPuGR8"
   },
   "source": [
    "Setup"
   ]
  },
  {
   "cell_type": "code",
   "execution_count": 1,
   "metadata": {
    "colab": {
     "base_uri": "https://localhost:8080/"
    },
    "executionInfo": {
     "elapsed": 596,
     "status": "ok",
     "timestamp": 1616899725201,
     "user": {
      "displayName": "Sabina Chen",
      "photoUrl": "",
      "userId": "13519457631091889537"
     },
     "user_tz": 240
    },
    "id": "-VeS6EFBuIDp",
    "outputId": "ef76b9d1-8e5d-41a6-d770-ef867810d618"
   },
   "outputs": [
    {
     "name": "stdout",
     "output_type": "stream",
     "text": [
      "{\n",
      "    \"epsilon\": 1e-07, \n",
      "    \"floatx\": \"float32\", \n",
      "    \"image_data_format\": \"channels_last\", \n",
      "    \"backend\": \"tensorflow\"\n",
      "}"
     ]
    }
   ],
   "source": [
    "!cat ~/.keras/keras.json"
   ]
  },
  {
   "cell_type": "markdown",
   "metadata": {
    "id": "lc8tV8k7uGVX"
   },
   "source": [
    "LeNet"
   ]
  },
  {
   "cell_type": "code",
   "execution_count": 2,
   "metadata": {
    "executionInfo": {
     "elapsed": 2314,
     "status": "ok",
     "timestamp": 1616899727583,
     "user": {
      "displayName": "Sabina Chen",
      "photoUrl": "",
      "userId": "13519457631091889537"
     },
     "user_tz": 240
    },
    "id": "AqLXDTFAuLWn"
   },
   "outputs": [],
   "source": [
    "from keras.models import Sequential\n",
    "from keras.layers.convolutional import Conv2D\n",
    "from keras.layers.convolutional import MaxPooling2D\n",
    "from keras.layers.core import Activation\n",
    "from keras.layers.core import Flatten\n",
    "from keras.layers.core import Dense\n",
    "from keras import backend as K"
   ]
  },
  {
   "cell_type": "code",
   "execution_count": 3,
   "metadata": {
    "executionInfo": {
     "elapsed": 2006,
     "status": "ok",
     "timestamp": 1616899727584,
     "user": {
      "displayName": "Sabina Chen",
      "photoUrl": "",
      "userId": "13519457631091889537"
     },
     "user_tz": 240
    },
    "id": "lZ0oGEkXuOAz"
   },
   "outputs": [],
   "source": [
    "class LeNet:\n",
    "\t@staticmethod\n",
    "\tdef build(width, height, depth, classes):\n",
    "\t\t# initialize the model\n",
    "\t\tmodel = Sequential()\n",
    "\t\tinputShape = (height, width, depth)\n",
    "\n",
    "\t\t# if we are using \"channels first\", update the input shape\n",
    "\t\tif K.image_data_format() == \"channels_first\":\n",
    "\t\t\tinputShape = (depth, height, width)\n",
    "\n",
    "\t\t# first set of CONV => RELU => POOL layers\n",
    "\t\tmodel.add(Conv2D(20, (5, 5), padding=\"same\",\n",
    "\t\t\tinput_shape=inputShape))\n",
    "\t\tmodel.add(Activation(\"relu\"))\n",
    "\t\tmodel.add(MaxPooling2D(pool_size=(2, 2), strides=(2, 2)))\n",
    "\n",
    "\t\t# second set of CONV => RELU => POOL layers\n",
    "\t\tmodel.add(Conv2D(50, (5, 5), padding=\"same\"))\n",
    "\t\tmodel.add(Activation(\"relu\"))\n",
    "\t\tmodel.add(MaxPooling2D(pool_size=(2, 2), strides=(2, 2)))\n",
    "\n",
    "\t\t# first (and only) set of FC => RELU layers\n",
    "\t\tmodel.add(Flatten())\n",
    "\t\tmodel.add(Dense(500))\n",
    "\t\tmodel.add(Activation(\"relu\"))\n",
    "\n",
    "\t\t# softmax classifier\n",
    "\t\tmodel.add(Dense(classes))\n",
    "\t\tmodel.add(Activation(\"softmax\"))\n",
    "\n",
    "\t\t# return the constructed network architecture\n",
    "\t\treturn model"
   ]
  },
  {
   "cell_type": "markdown",
   "metadata": {
    "id": "L6kWPpYvuGZB"
   },
   "source": [
    "Visualize Architecture"
   ]
  },
  {
   "cell_type": "code",
   "execution_count": 4,
   "metadata": {
    "executionInfo": {
     "elapsed": 1129,
     "status": "ok",
     "timestamp": 1616899727585,
     "user": {
      "displayName": "Sabina Chen",
      "photoUrl": "",
      "userId": "13519457631091889537"
     },
     "user_tz": 240
    },
    "id": "agQdeT2duQcv"
   },
   "outputs": [],
   "source": [
    "from keras.utils import plot_model"
   ]
  },
  {
   "cell_type": "code",
   "execution_count": 5,
   "metadata": {
    "executionInfo": {
     "elapsed": 726,
     "status": "ok",
     "timestamp": 1616899727586,
     "user": {
      "displayName": "Sabina Chen",
      "photoUrl": "",
      "userId": "13519457631091889537"
     },
     "user_tz": 240
    },
    "id": "Rg_2ugZwuWZ6"
   },
   "outputs": [],
   "source": [
    "def lenet_viz_architecture(save_filepath):\n",
    "    # initialize LeNet and then write the network architecture\n",
    "    # visualization grpah to disk\n",
    "    model = LeNet.build(28, 28, 1, 10)\n",
    "    plot_model(model, to_file=save_filepath, show_shapes=True)"
   ]
  },
  {
   "cell_type": "code",
   "execution_count": 6,
   "metadata": {
    "executionInfo": {
     "elapsed": 1297,
     "status": "ok",
     "timestamp": 1616899729295,
     "user": {
      "displayName": "Sabina Chen",
      "photoUrl": "",
      "userId": "13519457631091889537"
     },
     "user_tz": 240
    },
    "id": "nKxmgWN4udzO"
   },
   "outputs": [],
   "source": [
    "lenet_viz_architecture(save_filepath=\"drive/MyDrive/pyimagesearch/output/lenet_architecture.png\")"
   ]
  },
  {
   "cell_type": "code",
   "execution_count": null,
   "metadata": {
    "id": "4TA2PpequnJp"
   },
   "outputs": [],
   "source": []
  }
 ],
 "metadata": {
  "colab": {
   "authorship_tag": "ABX9TyPFTbEjyrVLsyNrFfwAsCsQ",
   "collapsed_sections": [],
   "mount_file_id": "19Sr2cYXzJZ-DsxUYTrRrFMXrBfmoKEEm",
   "name": "17-lenet-visualize-architecture.ipynb",
   "provenance": []
  },
  "kernelspec": {
   "display_name": "Python 3",
   "language": "python",
   "name": "python3"
  },
  "language_info": {
   "codemirror_mode": {
    "name": "ipython",
    "version": 3
   },
   "file_extension": ".py",
   "mimetype": "text/x-python",
   "name": "python",
   "nbconvert_exporter": "python",
   "pygments_lexer": "ipython3",
   "version": "3.8.5"
  }
 },
 "nbformat": 4,
 "nbformat_minor": 1
}
