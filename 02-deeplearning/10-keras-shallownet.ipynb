{
 "cells": [
  {
   "cell_type": "code",
   "execution_count": 1,
   "metadata": {
    "colab": {
     "base_uri": "https://localhost:8080/"
    },
    "executionInfo": {
     "elapsed": 801,
     "status": "ok",
     "timestamp": 1616828860260,
     "user": {
      "displayName": "Sabina Chen",
      "photoUrl": "",
      "userId": "13519457631091889537"
     },
     "user_tz": 240
    },
    "id": "tKgJ_U5gAxuh",
    "outputId": "7238ab92-f318-46d4-9276-b740f044a7aa"
   },
   "outputs": [
    {
     "name": "stdout",
     "output_type": "stream",
     "text": [
      "{\n",
      "    \"epsilon\": 1e-07, \n",
      "    \"floatx\": \"float32\", \n",
      "    \"image_data_format\": \"channels_last\", \n",
      "    \"backend\": \"tensorflow\"\n",
      "}"
     ]
    }
   ],
   "source": [
    "!cat ~/.keras/keras.json"
   ]
  },
  {
   "cell_type": "markdown",
   "metadata": {
    "id": "NkjOODodg4bO"
   },
   "source": [
    "Preprocessing"
   ]
  },
  {
   "cell_type": "code",
   "execution_count": 2,
   "metadata": {
    "executionInfo": {
     "elapsed": 733,
     "status": "ok",
     "timestamp": 1616829013412,
     "user": {
      "displayName": "Sabina Chen",
      "photoUrl": "",
      "userId": "13519457631091889537"
     },
     "user_tz": 240
    },
    "id": "f8YNx44ChNR5"
   },
   "outputs": [],
   "source": [
    "import numpy as np\n",
    "import cv2\n",
    "import os"
   ]
  },
  {
   "cell_type": "code",
   "execution_count": 3,
   "metadata": {
    "executionInfo": {
     "elapsed": 327,
     "status": "ok",
     "timestamp": 1616829013414,
     "user": {
      "displayName": "Sabina Chen",
      "photoUrl": "",
      "userId": "13519457631091889537"
     },
     "user_tz": 240
    },
    "id": "WViO2WzGg4BD"
   },
   "outputs": [],
   "source": [
    "class SimplePreprocessor:\n",
    "  def __init__(self, width, height, inter=cv2.INTER_AREA):\n",
    "    self.width = width\n",
    "    self.height = height\n",
    "    self.inter = inter\n",
    "\n",
    "  # resize the image to a fixed size, ignoring the aspect ratio\n",
    "  def preprocess(self, image):\n",
    "    return cv2.resize(image, (self.width, self.height), interpolation=self.inter)\n",
    "\n",
    "class SimpleDatasetLoader:\n",
    "    def __init__(self, preprocessors=None):\n",
    "        # store the image preprocessor\n",
    "        self.preprocessors = preprocessors\n",
    "\n",
    "        # if the preprocessors are None, initialize them as an empty list\n",
    "        if self.preprocessors is None:\n",
    "            self.preprocessors = []\n",
    "\n",
    "    def load(self, imagePaths, verbose=-1):\n",
    "        # initialize the list of features and labels\n",
    "        data = []\n",
    "        labels = []\n",
    "\n",
    "        # loop over the input images\n",
    "        for (i, imagePath) in enumerate(imagePaths):\n",
    "            # load the image and extract the class label assuming\n",
    "            # that our path has the following format:\n",
    "            # /path/to/dataset/{class}/{image}.jpg\n",
    "            image = cv2.imread(imagePath)\n",
    "            label = imagePath.split(os.path.sep)[-2]\n",
    "\n",
    "            # check to see if our preprocessors are not None\n",
    "            if self.preprocessors is not None:\n",
    "                # loop over the preprocessors and apply each to\n",
    "                # the image\n",
    "                for p in self.preprocessors:\n",
    "                    image = p.preprocess(image)\n",
    "\n",
    "            # treat our processed image as a \"feature vector\"\n",
    "            # by updating the data list followed by the labels\n",
    "            data.append(image)\n",
    "            labels.append(label)\n",
    "\n",
    "            # show an update every `verbose` images\n",
    "            if verbose > 0 and i > 0 and (i + 1) % verbose == 0:\n",
    "                print(\"[INFO] processed {}/{}\".format(i + 1,\n",
    "                    len(imagePaths)))\n",
    "\n",
    "        # return a tuple of the data and labels\n",
    "        return (np.array(data), np.array(labels))"
   ]
  },
  {
   "cell_type": "markdown",
   "metadata": {
    "id": "9RCuwVTPg07f"
   },
   "source": [
    "Image to Array Preprocessor (required for keras)"
   ]
  },
  {
   "cell_type": "code",
   "execution_count": 4,
   "metadata": {
    "executionInfo": {
     "elapsed": 1910,
     "status": "ok",
     "timestamp": 1616829016691,
     "user": {
      "displayName": "Sabina Chen",
      "photoUrl": "",
      "userId": "13519457631091889537"
     },
     "user_tz": 240
    },
    "id": "5s8I8x9jgz3g"
   },
   "outputs": [],
   "source": [
    "from keras.preprocessing.image import img_to_array"
   ]
  },
  {
   "cell_type": "code",
   "execution_count": 5,
   "metadata": {
    "executionInfo": {
     "elapsed": 1430,
     "status": "ok",
     "timestamp": 1616829016691,
     "user": {
      "displayName": "Sabina Chen",
      "photoUrl": "",
      "userId": "13519457631091889537"
     },
     "user_tz": 240
    },
    "id": "jiNi4MIMgnYM"
   },
   "outputs": [],
   "source": [
    "class ImageToArrayPreprocessor:\n",
    "\tdef __init__(self, dataFormat=None):\n",
    "\t\t# store the image data format\n",
    "\t\tself.dataFormat = dataFormat\n",
    "\n",
    "\tdef preprocess(self, image):\n",
    "\t\t# apply the Keras utility function that correctly rearranges\n",
    "\t\t# the dimensions of the image\n",
    "\t\treturn img_to_array(image, data_format=self.dataFormat)"
   ]
  },
  {
   "cell_type": "markdown",
   "metadata": {
    "id": "D6BVP5X4h8rF"
   },
   "source": [
    "ShallowNet\n",
    "\n",
    "INPUT => CONV => RELU => FC"
   ]
  },
  {
   "cell_type": "code",
   "execution_count": 6,
   "metadata": {
    "executionInfo": {
     "elapsed": 362,
     "status": "ok",
     "timestamp": 1616829220347,
     "user": {
      "displayName": "Sabina Chen",
      "photoUrl": "",
      "userId": "13519457631091889537"
     },
     "user_tz": 240
    },
    "id": "p2dTl_Fph9yH"
   },
   "outputs": [],
   "source": [
    "from keras.models import Sequential\n",
    "from keras.layers.convolutional import Conv2D\n",
    "from keras.layers.core import Activation\n",
    "from keras.layers.core import Flatten\n",
    "from keras.layers.core import Dense\n",
    "from keras import backend as K"
   ]
  },
  {
   "cell_type": "code",
   "execution_count": 7,
   "metadata": {
    "executionInfo": {
     "elapsed": 347,
     "status": "ok",
     "timestamp": 1616829229434,
     "user": {
      "displayName": "Sabina Chen",
      "photoUrl": "",
      "userId": "13519457631091889537"
     },
     "user_tz": 240
    },
    "id": "qsdNgwRuiA_T"
   },
   "outputs": [],
   "source": [
    "class ShallowNet:\n",
    "\t@staticmethod\n",
    "\tdef build(width, height, depth, classes):\n",
    "\t\t# initialize the model along with the input shape to be\n",
    "\t\t# \"channels last\"\n",
    "\t\tmodel = Sequential()\n",
    "\t\tinputShape = (height, width, depth)\n",
    "\n",
    "\t\t# if we are using \"channels first\", update the input shape\n",
    "\t\tif K.image_data_format() == \"channels_first\":\n",
    "\t\t\tinputShape = (depth, height, width)\n",
    "\n",
    "\t\t# define the first (and only) CONV => RELU layer\n",
    "\t\tmodel.add(Conv2D(filters=32, kernel_size=(3, 3), padding=\"same\", input_shape=inputShape))\n",
    "\t\tmodel.add(Activation(\"relu\"))\n",
    "\n",
    "\t\t# softmax classifier\n",
    "\t\tmodel.add(Flatten()) # required before FC\n",
    "\t\tmodel.add(Dense(classes)) # integer\n",
    "\t\tmodel.add(Activation(\"softmax\"))\n",
    "\n",
    "\t\t# return the constructed network architecture\n",
    "\t\treturn model"
   ]
  },
  {
   "cell_type": "markdown",
   "metadata": {
    "id": "dHENXERAha8m"
   },
   "source": [
    "Shallownet (Animals)"
   ]
  },
  {
   "cell_type": "code",
   "execution_count": 8,
   "metadata": {
    "executionInfo": {
     "elapsed": 931,
     "status": "ok",
     "timestamp": 1616829470935,
     "user": {
      "displayName": "Sabina Chen",
      "photoUrl": "",
      "userId": "13519457631091889537"
     },
     "user_tz": 240
    },
    "id": "LcRj1k00hOSt"
   },
   "outputs": [],
   "source": [
    "from sklearn.preprocessing import LabelBinarizer\n",
    "from sklearn.model_selection import train_test_split\n",
    "from sklearn.metrics import classification_report\n",
    "from keras.optimizers import SGD\n",
    "from imutils import paths\n",
    "import matplotlib.pyplot as plt\n",
    "import numpy as np"
   ]
  },
  {
   "cell_type": "code",
   "execution_count": 12,
   "metadata": {
    "executionInfo": {
     "elapsed": 374,
     "status": "ok",
     "timestamp": 1616829616751,
     "user": {
      "displayName": "Sabina Chen",
      "photoUrl": "",
      "userId": "13519457631091889537"
     },
     "user_tz": 240
    },
    "id": "KfExArS7i9Ts"
   },
   "outputs": [],
   "source": [
    "def train_animals(dataset):\n",
    "    # grab the list of images that we'll be describing\n",
    "    print(\"[INFO] loading images...\")\n",
    "    imagePaths = list(paths.list_images(dataset))\n",
    "\n",
    "    # initialize the image preprocessors\n",
    "    sp = SimplePreprocessor(32, 32)\n",
    "    iap = ImageToArrayPreprocessor()\n",
    "\n",
    "    # load the dataset from disk then scale the raw pixel intensities\n",
    "    # to the range [0, 1]\n",
    "    sdl = SimpleDatasetLoader(preprocessors=[sp, iap])\n",
    "    (data, labels) = sdl.load(imagePaths, verbose=500)\n",
    "    data = data.astype(\"float\") / 255.0\n",
    "\n",
    "    # partition the data into training and testing splits using 75% of\n",
    "    # the data for training and the remaining 25% for testing\n",
    "    (trainX, testX, trainY, testY) = train_test_split(data, labels, test_size=0.25, random_state=42)\n",
    "\n",
    "    # convert the labels from integers to vectors\n",
    "    trainY = LabelBinarizer().fit_transform(trainY)\n",
    "    testY = LabelBinarizer().fit_transform(testY)\n",
    "\n",
    "    # initialize the optimizer and model\n",
    "    print(\"[INFO] compiling model...\")\n",
    "    opt = SGD(lr=0.005)\n",
    "    model = ShallowNet.build(width=32, height=32, depth=3, classes=3)\n",
    "    model.compile(loss=\"categorical_crossentropy\", optimizer=opt, metrics=[\"accuracy\"])\n",
    "\n",
    "    # train the network\n",
    "    print(\"[INFO] training network...\")\n",
    "    H = model.fit(trainX, trainY, validation_data=(testX, testY), batch_size=32, epochs=100, verbose=1)\n",
    "\n",
    "    # evaluate the network\n",
    "    print(\"[INFO] evaluating network...\")\n",
    "    predictions = model.predict(testX, batch_size=32)\n",
    "    print(classification_report(testY.argmax(axis=1), predictions.argmax(axis=1), target_names=[\"cat\", \"dog\", \"panda\"]))\n",
    "\n",
    "    # plot the training loss and accuracy\n",
    "    plt.style.use(\"ggplot\")\n",
    "    plt.figure()\n",
    "    plt.plot(np.arange(0, 100), H.history[\"loss\"], label=\"train_loss\")\n",
    "    plt.plot(np.arange(0, 100), H.history[\"val_loss\"], label=\"val_loss\")\n",
    "    plt.plot(np.arange(0, 100), H.history[\"accuracy\"], label=\"train_accuracy\")\n",
    "    plt.plot(np.arange(0, 100), H.history[\"val_accuracy\"], label=\"val_accuracy\")\n",
    "    plt.title(\"Training Loss and Accuracy\")\n",
    "    plt.xlabel(\"Epoch #\")\n",
    "    plt.ylabel(\"Loss/Accuracy\")\n",
    "    plt.legend()\n",
    "    plt.show()"
   ]
  },
  {
   "cell_type": "code",
   "execution_count": 13,
   "metadata": {
    "colab": {
     "base_uri": "https://localhost:8080/",
     "height": 1000
    },
    "executionInfo": {
     "elapsed": 1613741,
     "status": "ok",
     "timestamp": 1616831231725,
     "user": {
      "displayName": "Sabina Chen",
      "photoUrl": "",
      "userId": "13519457631091889537"
     },
     "user_tz": 240
    },
    "id": "n9ZcnfG4jGkB",
    "outputId": "95ae8826-33f3-4ce9-9a73-5ac94379fbb2"
   },
   "outputs": [
    {
     "name": "stdout",
     "output_type": "stream",
     "text": [
      "[INFO] loading images...\n",
      "[INFO] processed 500/3000\n",
      "[INFO] processed 1000/3000\n",
      "[INFO] processed 1500/3000\n",
      "[INFO] processed 2000/3000\n",
      "[INFO] processed 2500/3000\n",
      "[INFO] processed 3000/3000\n",
      "[INFO] compiling model...\n",
      "[INFO] training network...\n",
      "Epoch 1/100\n",
      "71/71 [==============================] - 2s 24ms/step - loss: 1.0418 - accuracy: 0.4332 - val_loss: 0.9376 - val_accuracy: 0.5360\n",
      "Epoch 2/100\n",
      "71/71 [==============================] - 2s 22ms/step - loss: 0.9176 - accuracy: 0.5520 - val_loss: 0.9719 - val_accuracy: 0.5360\n",
      "Epoch 3/100\n",
      "71/71 [==============================] - 2s 22ms/step - loss: 0.8549 - accuracy: 0.5958 - val_loss: 0.8526 - val_accuracy: 0.5693\n",
      "Epoch 4/100\n",
      "71/71 [==============================] - 2s 21ms/step - loss: 0.8517 - accuracy: 0.5760 - val_loss: 0.8528 - val_accuracy: 0.5707\n",
      "Epoch 5/100\n",
      "71/71 [==============================] - 2s 22ms/step - loss: 0.8226 - accuracy: 0.5904 - val_loss: 0.8437 - val_accuracy: 0.5867\n",
      "Epoch 6/100\n",
      "71/71 [==============================] - 2s 22ms/step - loss: 0.8058 - accuracy: 0.6004 - val_loss: 0.8453 - val_accuracy: 0.5907\n",
      "Epoch 7/100\n",
      "71/71 [==============================] - 2s 22ms/step - loss: 0.8043 - accuracy: 0.6084 - val_loss: 0.8250 - val_accuracy: 0.5960\n",
      "Epoch 8/100\n",
      "71/71 [==============================] - 2s 22ms/step - loss: 0.7873 - accuracy: 0.6349 - val_loss: 0.9244 - val_accuracy: 0.5520\n",
      "Epoch 9/100\n",
      "71/71 [==============================] - 2s 22ms/step - loss: 0.7994 - accuracy: 0.6046 - val_loss: 0.8624 - val_accuracy: 0.5627\n",
      "Epoch 10/100\n",
      "71/71 [==============================] - 2s 22ms/step - loss: 0.7796 - accuracy: 0.6376 - val_loss: 0.8471 - val_accuracy: 0.5800\n",
      "Epoch 11/100\n",
      "71/71 [==============================] - 2s 22ms/step - loss: 0.7769 - accuracy: 0.6188 - val_loss: 0.8489 - val_accuracy: 0.5547\n",
      "Epoch 12/100\n",
      "71/71 [==============================] - 2s 22ms/step - loss: 0.7678 - accuracy: 0.6290 - val_loss: 0.8168 - val_accuracy: 0.6053\n",
      "Epoch 13/100\n",
      "71/71 [==============================] - 2s 22ms/step - loss: 0.7620 - accuracy: 0.6390 - val_loss: 0.8628 - val_accuracy: 0.5787\n",
      "Epoch 14/100\n",
      "71/71 [==============================] - 2s 22ms/step - loss: 0.7419 - accuracy: 0.6633 - val_loss: 0.7738 - val_accuracy: 0.6307\n",
      "Epoch 15/100\n",
      "71/71 [==============================] - 2s 22ms/step - loss: 0.7692 - accuracy: 0.6391 - val_loss: 0.8864 - val_accuracy: 0.5787\n",
      "Epoch 16/100\n",
      "71/71 [==============================] - 2s 22ms/step - loss: 0.7458 - accuracy: 0.6425 - val_loss: 0.7727 - val_accuracy: 0.6347\n",
      "Epoch 17/100\n",
      "71/71 [==============================] - 2s 22ms/step - loss: 0.7178 - accuracy: 0.6787 - val_loss: 0.7656 - val_accuracy: 0.6227\n",
      "Epoch 18/100\n",
      "71/71 [==============================] - 2s 22ms/step - loss: 0.7382 - accuracy: 0.6590 - val_loss: 0.8045 - val_accuracy: 0.6040\n",
      "Epoch 19/100\n",
      "71/71 [==============================] - 2s 22ms/step - loss: 0.7270 - accuracy: 0.6735 - val_loss: 0.8193 - val_accuracy: 0.6080\n",
      "Epoch 20/100\n",
      "71/71 [==============================] - 2s 22ms/step - loss: 0.7008 - accuracy: 0.6768 - val_loss: 0.8145 - val_accuracy: 0.5840\n",
      "Epoch 21/100\n",
      "71/71 [==============================] - 2s 22ms/step - loss: 0.7595 - accuracy: 0.6625 - val_loss: 0.7514 - val_accuracy: 0.6533\n",
      "Epoch 22/100\n",
      "71/71 [==============================] - 2s 22ms/step - loss: 0.7018 - accuracy: 0.6992 - val_loss: 1.0813 - val_accuracy: 0.5053\n",
      "Epoch 23/100\n",
      "71/71 [==============================] - 2s 22ms/step - loss: 0.7158 - accuracy: 0.6718 - val_loss: 0.7692 - val_accuracy: 0.6320\n",
      "Epoch 24/100\n",
      "71/71 [==============================] - 2s 22ms/step - loss: 0.6911 - accuracy: 0.6907 - val_loss: 0.7646 - val_accuracy: 0.6520\n",
      "Epoch 25/100\n",
      "71/71 [==============================] - 2s 22ms/step - loss: 0.6877 - accuracy: 0.6835 - val_loss: 0.7933 - val_accuracy: 0.5893\n",
      "Epoch 26/100\n",
      "71/71 [==============================] - 2s 22ms/step - loss: 0.6859 - accuracy: 0.6890 - val_loss: 0.8251 - val_accuracy: 0.6187\n",
      "Epoch 27/100\n",
      "71/71 [==============================] - 2s 22ms/step - loss: 0.6748 - accuracy: 0.6926 - val_loss: 0.7426 - val_accuracy: 0.6440\n",
      "Epoch 28/100\n",
      "71/71 [==============================] - 2s 22ms/step - loss: 0.6685 - accuracy: 0.7049 - val_loss: 0.7290 - val_accuracy: 0.6667\n",
      "Epoch 29/100\n",
      "71/71 [==============================] - 2s 22ms/step - loss: 0.6725 - accuracy: 0.6997 - val_loss: 1.0011 - val_accuracy: 0.5360\n",
      "Epoch 30/100\n",
      "71/71 [==============================] - 2s 22ms/step - loss: 0.6590 - accuracy: 0.7249 - val_loss: 0.7559 - val_accuracy: 0.6147\n",
      "Epoch 31/100\n",
      "71/71 [==============================] - 2s 22ms/step - loss: 0.6631 - accuracy: 0.7084 - val_loss: 0.7321 - val_accuracy: 0.6440\n",
      "Epoch 32/100\n",
      "71/71 [==============================] - 2s 22ms/step - loss: 0.6603 - accuracy: 0.7101 - val_loss: 0.9056 - val_accuracy: 0.5867\n",
      "Epoch 33/100\n",
      "71/71 [==============================] - 2s 22ms/step - loss: 0.6484 - accuracy: 0.7228 - val_loss: 0.7139 - val_accuracy: 0.6600\n",
      "Epoch 34/100\n",
      "71/71 [==============================] - 2s 22ms/step - loss: 0.6375 - accuracy: 0.7229 - val_loss: 0.7582 - val_accuracy: 0.6013\n",
      "Epoch 35/100\n",
      "71/71 [==============================] - 2s 22ms/step - loss: 0.6384 - accuracy: 0.7312 - val_loss: 0.7802 - val_accuracy: 0.6480\n",
      "Epoch 36/100\n",
      "71/71 [==============================] - 2s 22ms/step - loss: 0.6126 - accuracy: 0.7450 - val_loss: 0.7249 - val_accuracy: 0.6453\n",
      "Epoch 37/100\n",
      "71/71 [==============================] - 2s 22ms/step - loss: 0.6076 - accuracy: 0.7306 - val_loss: 0.8304 - val_accuracy: 0.6160\n",
      "Epoch 38/100\n",
      "71/71 [==============================] - 2s 22ms/step - loss: 0.6241 - accuracy: 0.7461 - val_loss: 0.7191 - val_accuracy: 0.6587\n",
      "Epoch 39/100\n",
      "71/71 [==============================] - 2s 22ms/step - loss: 0.6030 - accuracy: 0.7398 - val_loss: 0.7400 - val_accuracy: 0.6507\n",
      "Epoch 40/100\n",
      "71/71 [==============================] - 2s 22ms/step - loss: 0.6120 - accuracy: 0.7277 - val_loss: 0.6962 - val_accuracy: 0.6653\n",
      "Epoch 41/100\n",
      "71/71 [==============================] - 2s 22ms/step - loss: 0.5899 - accuracy: 0.7604 - val_loss: 0.7467 - val_accuracy: 0.6173\n",
      "Epoch 42/100\n",
      "71/71 [==============================] - 2s 22ms/step - loss: 0.5635 - accuracy: 0.7691 - val_loss: 0.7460 - val_accuracy: 0.6280\n",
      "Epoch 43/100\n",
      "71/71 [==============================] - 2s 22ms/step - loss: 0.5737 - accuracy: 0.7707 - val_loss: 0.7475 - val_accuracy: 0.6320\n",
      "Epoch 44/100\n",
      "71/71 [==============================] - 2s 22ms/step - loss: 0.5879 - accuracy: 0.7471 - val_loss: 0.7853 - val_accuracy: 0.6267\n",
      "Epoch 45/100\n",
      "71/71 [==============================] - 2s 22ms/step - loss: 0.5600 - accuracy: 0.7718 - val_loss: 0.6884 - val_accuracy: 0.6733\n",
      "Epoch 46/100\n",
      "71/71 [==============================] - 2s 22ms/step - loss: 0.5601 - accuracy: 0.7674 - val_loss: 0.7177 - val_accuracy: 0.6573\n",
      "Epoch 47/100\n",
      "71/71 [==============================] - 2s 22ms/step - loss: 0.5568 - accuracy: 0.7669 - val_loss: 0.7897 - val_accuracy: 0.6360\n",
      "Epoch 48/100\n",
      "71/71 [==============================] - 2s 22ms/step - loss: 0.5554 - accuracy: 0.7805 - val_loss: 0.7193 - val_accuracy: 0.6453\n",
      "Epoch 49/100\n",
      "71/71 [==============================] - 2s 22ms/step - loss: 0.5512 - accuracy: 0.7734 - val_loss: 0.6879 - val_accuracy: 0.6787\n",
      "Epoch 50/100\n",
      "71/71 [==============================] - 2s 22ms/step - loss: 0.5286 - accuracy: 0.7806 - val_loss: 0.7339 - val_accuracy: 0.6507\n",
      "Epoch 51/100\n",
      "71/71 [==============================] - 2s 22ms/step - loss: 0.5464 - accuracy: 0.7854 - val_loss: 0.6874 - val_accuracy: 0.6760\n",
      "Epoch 52/100\n",
      "71/71 [==============================] - 2s 22ms/step - loss: 0.5084 - accuracy: 0.7787 - val_loss: 0.6713 - val_accuracy: 0.6827\n",
      "Epoch 53/100\n",
      "71/71 [==============================] - 2s 22ms/step - loss: 0.5258 - accuracy: 0.7925 - val_loss: 0.6860 - val_accuracy: 0.6680\n",
      "Epoch 54/100\n",
      "71/71 [==============================] - 2s 22ms/step - loss: 0.5134 - accuracy: 0.7938 - val_loss: 0.6694 - val_accuracy: 0.6947\n",
      "Epoch 55/100\n",
      "71/71 [==============================] - 2s 23ms/step - loss: 0.5119 - accuracy: 0.7873 - val_loss: 0.6708 - val_accuracy: 0.6987\n",
      "Epoch 56/100\n",
      "71/71 [==============================] - 2s 22ms/step - loss: 0.5228 - accuracy: 0.7904 - val_loss: 0.6934 - val_accuracy: 0.6813\n",
      "Epoch 57/100\n",
      "71/71 [==============================] - 2s 22ms/step - loss: 0.5055 - accuracy: 0.7912 - val_loss: 0.6623 - val_accuracy: 0.6947\n",
      "Epoch 58/100\n",
      "71/71 [==============================] - 2s 22ms/step - loss: 0.4838 - accuracy: 0.8152 - val_loss: 0.7034 - val_accuracy: 0.6640\n",
      "Epoch 59/100\n",
      "71/71 [==============================] - 2s 22ms/step - loss: 0.4985 - accuracy: 0.8009 - val_loss: 0.7348 - val_accuracy: 0.6613\n",
      "Epoch 60/100\n",
      "71/71 [==============================] - 2s 22ms/step - loss: 0.4982 - accuracy: 0.7962 - val_loss: 0.6723 - val_accuracy: 0.6893\n",
      "Epoch 61/100\n",
      "71/71 [==============================] - 2s 22ms/step - loss: 0.4801 - accuracy: 0.8133 - val_loss: 0.6993 - val_accuracy: 0.6813\n",
      "Epoch 62/100\n",
      "71/71 [==============================] - 2s 22ms/step - loss: 0.4707 - accuracy: 0.8161 - val_loss: 0.6692 - val_accuracy: 0.6800\n",
      "Epoch 63/100\n",
      "71/71 [==============================] - 2s 22ms/step - loss: 0.4831 - accuracy: 0.8128 - val_loss: 0.6648 - val_accuracy: 0.7013\n",
      "Epoch 64/100\n",
      "71/71 [==============================] - 2s 22ms/step - loss: 0.4606 - accuracy: 0.8287 - val_loss: 0.7361 - val_accuracy: 0.6640\n",
      "Epoch 65/100\n",
      "71/71 [==============================] - 2s 22ms/step - loss: 0.4758 - accuracy: 0.8114 - val_loss: 0.6707 - val_accuracy: 0.6880\n",
      "Epoch 66/100\n",
      "71/71 [==============================] - 2s 22ms/step - loss: 0.4712 - accuracy: 0.7932 - val_loss: 0.7240 - val_accuracy: 0.6640\n",
      "Epoch 67/100\n",
      "71/71 [==============================] - 2s 23ms/step - loss: 0.4637 - accuracy: 0.8181 - val_loss: 0.6937 - val_accuracy: 0.6747\n",
      "Epoch 68/100\n",
      "71/71 [==============================] - 2s 22ms/step - loss: 0.4402 - accuracy: 0.8278 - val_loss: 1.0980 - val_accuracy: 0.5387\n",
      "Epoch 69/100\n",
      "71/71 [==============================] - 2s 22ms/step - loss: 0.4890 - accuracy: 0.8027 - val_loss: 0.6721 - val_accuracy: 0.6960\n",
      "Epoch 70/100\n",
      "71/71 [==============================] - 2s 22ms/step - loss: 0.4536 - accuracy: 0.8141 - val_loss: 0.7105 - val_accuracy: 0.6640\n",
      "Epoch 71/100\n",
      "71/71 [==============================] - 2s 22ms/step - loss: 0.4351 - accuracy: 0.8272 - val_loss: 0.6620 - val_accuracy: 0.6987\n",
      "Epoch 72/100\n",
      "71/71 [==============================] - 2s 23ms/step - loss: 0.4389 - accuracy: 0.8272 - val_loss: 0.7035 - val_accuracy: 0.6667\n",
      "Epoch 73/100\n",
      "71/71 [==============================] - 2s 22ms/step - loss: 0.4381 - accuracy: 0.8322 - val_loss: 0.7030 - val_accuracy: 0.6787\n",
      "Epoch 74/100\n",
      "71/71 [==============================] - 2s 23ms/step - loss: 0.4336 - accuracy: 0.8386 - val_loss: 0.6602 - val_accuracy: 0.7000\n",
      "Epoch 75/100\n",
      "71/71 [==============================] - 2s 22ms/step - loss: 0.4171 - accuracy: 0.8487 - val_loss: 0.6639 - val_accuracy: 0.6947\n",
      "Epoch 76/100\n",
      "71/71 [==============================] - 2s 23ms/step - loss: 0.4114 - accuracy: 0.8484 - val_loss: 0.7045 - val_accuracy: 0.6733\n",
      "Epoch 77/100\n",
      "71/71 [==============================] - 2s 22ms/step - loss: 0.4236 - accuracy: 0.8365 - val_loss: 0.7243 - val_accuracy: 0.6613\n",
      "Epoch 78/100\n",
      "71/71 [==============================] - 2s 22ms/step - loss: 0.4094 - accuracy: 0.8483 - val_loss: 0.7649 - val_accuracy: 0.6480\n",
      "Epoch 79/100\n",
      "71/71 [==============================] - 2s 22ms/step - loss: 0.4143 - accuracy: 0.8474 - val_loss: 0.8369 - val_accuracy: 0.6200\n",
      "Epoch 80/100\n",
      "71/71 [==============================] - 2s 22ms/step - loss: 0.4178 - accuracy: 0.8418 - val_loss: 0.6628 - val_accuracy: 0.6907\n",
      "Epoch 81/100\n",
      "71/71 [==============================] - 2s 23ms/step - loss: 0.4152 - accuracy: 0.8465 - val_loss: 0.6603 - val_accuracy: 0.7053\n",
      "Epoch 82/100\n",
      "71/71 [==============================] - 2s 23ms/step - loss: 0.3932 - accuracy: 0.8451 - val_loss: 0.6491 - val_accuracy: 0.7067\n",
      "Epoch 83/100\n",
      "71/71 [==============================] - 2s 22ms/step - loss: 0.3930 - accuracy: 0.8560 - val_loss: 0.7143 - val_accuracy: 0.6693\n",
      "Epoch 84/100\n",
      "71/71 [==============================] - 2s 22ms/step - loss: 0.4142 - accuracy: 0.8470 - val_loss: 0.8649 - val_accuracy: 0.6280\n",
      "Epoch 85/100\n",
      "71/71 [==============================] - 2s 23ms/step - loss: 0.4054 - accuracy: 0.8396 - val_loss: 0.6757 - val_accuracy: 0.6987\n",
      "Epoch 86/100\n",
      "71/71 [==============================] - 2s 22ms/step - loss: 0.3948 - accuracy: 0.8412 - val_loss: 0.6441 - val_accuracy: 0.7133\n",
      "Epoch 87/100\n",
      "71/71 [==============================] - 2s 23ms/step - loss: 0.3943 - accuracy: 0.8555 - val_loss: 0.6613 - val_accuracy: 0.7053\n",
      "Epoch 88/100\n",
      "71/71 [==============================] - 2s 23ms/step - loss: 0.3863 - accuracy: 0.8660 - val_loss: 0.6840 - val_accuracy: 0.6960\n",
      "Epoch 89/100\n",
      "71/71 [==============================] - 2s 22ms/step - loss: 0.3936 - accuracy: 0.8578 - val_loss: 0.6841 - val_accuracy: 0.6933\n",
      "Epoch 90/100\n",
      "71/71 [==============================] - 2s 23ms/step - loss: 0.3819 - accuracy: 0.8612 - val_loss: 0.7173 - val_accuracy: 0.6760\n",
      "Epoch 91/100\n",
      "71/71 [==============================] - 2s 23ms/step - loss: 0.3839 - accuracy: 0.8639 - val_loss: 0.7110 - val_accuracy: 0.6733\n",
      "Epoch 92/100\n",
      "71/71 [==============================] - 2s 23ms/step - loss: 0.3854 - accuracy: 0.8673 - val_loss: 0.6564 - val_accuracy: 0.6960\n",
      "Epoch 93/100\n",
      "71/71 [==============================] - 2s 23ms/step - loss: 0.3605 - accuracy: 0.8561 - val_loss: 0.6521 - val_accuracy: 0.7160\n",
      "Epoch 94/100\n",
      "71/71 [==============================] - 2s 22ms/step - loss: 0.3751 - accuracy: 0.8646 - val_loss: 0.6826 - val_accuracy: 0.6893\n",
      "Epoch 95/100\n",
      "71/71 [==============================] - 2s 22ms/step - loss: 0.3604 - accuracy: 0.8679 - val_loss: 0.6531 - val_accuracy: 0.7120\n",
      "Epoch 96/100\n",
      "71/71 [==============================] - 2s 22ms/step - loss: 0.3539 - accuracy: 0.8711 - val_loss: 0.6690 - val_accuracy: 0.7040\n",
      "Epoch 97/100\n",
      "71/71 [==============================] - 2s 22ms/step - loss: 0.3512 - accuracy: 0.8771 - val_loss: 0.6555 - val_accuracy: 0.7067\n",
      "Epoch 98/100\n",
      "71/71 [==============================] - 2s 22ms/step - loss: 0.3592 - accuracy: 0.8742 - val_loss: 0.6700 - val_accuracy: 0.7040\n",
      "Epoch 99/100\n",
      "71/71 [==============================] - 2s 23ms/step - loss: 0.3394 - accuracy: 0.8833 - val_loss: 0.8709 - val_accuracy: 0.6547\n",
      "Epoch 100/100\n",
      "71/71 [==============================] - 2s 23ms/step - loss: 0.3486 - accuracy: 0.8819 - val_loss: 0.7477 - val_accuracy: 0.6600\n",
      "[INFO] evaluating network...\n",
      "              precision    recall  f1-score   support\n",
      "\n",
      "         cat       0.61      0.57      0.59       239\n",
      "         dog       0.55      0.74      0.63       262\n",
      "       panda       0.95      0.66      0.78       249\n",
      "\n",
      "    accuracy                           0.66       750\n",
      "   macro avg       0.70      0.66      0.67       750\n",
      "weighted avg       0.70      0.66      0.67       750\n",
      "\n"
     ]
    },
    {
     "data": {
      "image/png": "[encoded data removed]",
      "text/plain": [
       "<Figure size 432x288 with 1 Axes>"
      ]
     },
     "metadata": {
      "tags": []
     },
     "output_type": "display_data"
    }
   ],
   "source": [
    "train_animals(\"drive/MyDrive/pyimagesearch/datasets/animals\")"
   ]
  },
  {
   "cell_type": "code",
   "execution_count": 17,
   "metadata": {
    "executionInfo": {
     "elapsed": 333,
     "status": "ok",
     "timestamp": 1616831436713,
     "user": {
      "displayName": "Sabina Chen",
      "photoUrl": "",
      "userId": "13519457631091889537"
     },
     "user_tz": 240
    },
    "id": "AL8pFEfyjPSN"
   },
   "outputs": [],
   "source": [
    "from sklearn.preprocessing import LabelBinarizer\n",
    "from sklearn.metrics import classification_report\n",
    "from keras.optimizers import SGD\n",
    "from keras.datasets import cifar10\n",
    "import matplotlib.pyplot as plt\n",
    "import numpy as np"
   ]
  },
  {
   "cell_type": "code",
   "execution_count": 18,
   "metadata": {
    "executionInfo": {
     "elapsed": 331,
     "status": "ok",
     "timestamp": 1616831442874,
     "user": {
      "displayName": "Sabina Chen",
      "photoUrl": "",
      "userId": "13519457631091889537"
     },
     "user_tz": 240
    },
    "id": "Ol7hGmjpkdwl"
   },
   "outputs": [],
   "source": [
    "def train_cifar():\n",
    "    # load the training and testing data, then scale it into the\n",
    "    # range [0, 1]\n",
    "    print(\"[INFO] loading CIFAR-10 data...\")\n",
    "    ((trainX, trainY), (testX, testY)) = cifar10.load_data()\n",
    "    trainX = trainX.astype(\"float\") / 255.0\n",
    "    testX = testX.astype(\"float\") / 255.0\n",
    "\n",
    "    # convert the labels from integers to vectors\n",
    "    lb = LabelBinarizer()\n",
    "    trainY = lb.fit_transform(trainY)\n",
    "    testY = lb.transform(testY)\n",
    "\n",
    "    # initialize the label names for the CIFAR-10 dataset\n",
    "    labelNames = [\"airplane\", \"automobile\", \"bird\", \"cat\", \"deer\", \"dog\", \"frog\", \"horse\", \"ship\", \"truck\"]\n",
    "\n",
    "    # initialize the optimizer and model\n",
    "    print(\"[INFO] compiling model...\")\n",
    "    opt = SGD(lr=0.01)\n",
    "    model = ShallowNet.build(width=32, height=32, depth=3, classes=10)\n",
    "    model.compile(loss=\"categorical_crossentropy\", optimizer=opt, metrics=[\"accuracy\"])\n",
    "\n",
    "    # train the network\n",
    "    print(\"[INFO] training network...\")\n",
    "    H = model.fit(trainX, trainY, validation_data=(testX, testY), batch_size=32, epochs=40, verbose=1)\n",
    "\n",
    "    # evaluate the network\n",
    "    print(\"[INFO] evaluating network...\")\n",
    "    predictions = model.predict(testX, batch_size=32)\n",
    "    print(classification_report(testY.argmax(axis=1), predictions.argmax(axis=1), target_names=labelNames))\n",
    "\n",
    "    # plot the training loss and accuracy\n",
    "    plt.style.use(\"ggplot\")\n",
    "    plt.figure()\n",
    "    plt.plot(np.arange(0, 40), H.history[\"loss\"], label=\"train_loss\")\n",
    "    plt.plot(np.arange(0, 40), H.history[\"val_loss\"], label=\"val_loss\")\n",
    "    plt.plot(np.arange(0, 40), H.history[\"accuracy\"], label=\"train_accuracy\")\n",
    "    plt.plot(np.arange(0, 40), H.history[\"val_accuracy\"], label=\"val_accuracy\")\n",
    "    plt.title(\"Training Loss and Accuracy\")\n",
    "    plt.xlabel(\"Epoch #\")\n",
    "    plt.ylabel(\"Loss/Accuracy\")\n",
    "    plt.legend()\n",
    "    plt.show()"
   ]
  },
  {
   "cell_type": "code",
   "execution_count": 19,
   "metadata": {
    "colab": {
     "base_uri": "https://localhost:8080/",
     "height": 1000
    },
    "executionInfo": {
     "elapsed": 1417034,
     "status": "ok",
     "timestamp": 1616832860097,
     "user": {
      "displayName": "Sabina Chen",
      "photoUrl": "",
      "userId": "13519457631091889537"
     },
     "user_tz": 240
    },
    "id": "y0Y8MIMqk3rQ",
    "outputId": "c1dd1065-ca3a-4f22-e2e0-3c7064e3e390"
   },
   "outputs": [
    {
     "name": "stdout",
     "output_type": "stream",
     "text": [
      "[INFO] loading CIFAR-10 data...\n",
      "Downloading data from https://www.cs.toronto.edu/~kriz/cifar-10-python.tar.gz\n",
      "170500096/170498071 [==============================] - 4s 0us/step\n",
      "[INFO] compiling model...\n",
      "[INFO] training network...\n",
      "Epoch 1/40\n",
      "1563/1563 [==============================] - 34s 22ms/step - loss: 1.9257 - accuracy: 0.3134 - val_loss: 1.6449 - val_accuracy: 0.4308\n",
      "Epoch 2/40\n",
      "1563/1563 [==============================] - 34s 22ms/step - loss: 1.5909 - accuracy: 0.4474 - val_loss: 1.4827 - val_accuracy: 0.4755\n",
      "Epoch 3/40\n",
      "1563/1563 [==============================] - 34s 22ms/step - loss: 1.4189 - accuracy: 0.5049 - val_loss: 1.3965 - val_accuracy: 0.5079\n",
      "Epoch 4/40\n",
      "1563/1563 [==============================] - 34s 22ms/step - loss: 1.3348 - accuracy: 0.5301 - val_loss: 1.3659 - val_accuracy: 0.5175\n",
      "Epoch 5/40\n",
      "1563/1563 [==============================] - 34s 22ms/step - loss: 1.2639 - accuracy: 0.5564 - val_loss: 1.3472 - val_accuracy: 0.5251\n",
      "Epoch 6/40\n",
      "1563/1563 [==============================] - 34s 22ms/step - loss: 1.2047 - accuracy: 0.5774 - val_loss: 1.3008 - val_accuracy: 0.5357\n",
      "Epoch 7/40\n",
      "1563/1563 [==============================] - 34s 22ms/step - loss: 1.1814 - accuracy: 0.5867 - val_loss: 1.2720 - val_accuracy: 0.5490\n",
      "Epoch 8/40\n",
      "1563/1563 [==============================] - 34s 22ms/step - loss: 1.1529 - accuracy: 0.5946 - val_loss: 1.2123 - val_accuracy: 0.5715\n",
      "Epoch 9/40\n",
      "1563/1563 [==============================] - 34s 22ms/step - loss: 1.1137 - accuracy: 0.6121 - val_loss: 1.2562 - val_accuracy: 0.5585\n",
      "Epoch 10/40\n",
      "1563/1563 [==============================] - 35s 23ms/step - loss: 1.0930 - accuracy: 0.6234 - val_loss: 1.2661 - val_accuracy: 0.5542\n",
      "Epoch 11/40\n",
      "1563/1563 [==============================] - 35s 23ms/step - loss: 1.0676 - accuracy: 0.6276 - val_loss: 1.2316 - val_accuracy: 0.5661\n",
      "Epoch 12/40\n",
      "1563/1563 [==============================] - 35s 23ms/step - loss: 1.0534 - accuracy: 0.6398 - val_loss: 1.2235 - val_accuracy: 0.5703\n",
      "Epoch 13/40\n",
      "1563/1563 [==============================] - 35s 23ms/step - loss: 1.0384 - accuracy: 0.6431 - val_loss: 1.2164 - val_accuracy: 0.5798\n",
      "Epoch 14/40\n",
      "1563/1563 [==============================] - 35s 23ms/step - loss: 1.0144 - accuracy: 0.6494 - val_loss: 1.2303 - val_accuracy: 0.5670\n",
      "Epoch 15/40\n",
      "1563/1563 [==============================] - 35s 23ms/step - loss: 1.0008 - accuracy: 0.6528 - val_loss: 1.2215 - val_accuracy: 0.5742\n",
      "Epoch 16/40\n",
      "1563/1563 [==============================] - 36s 23ms/step - loss: 0.9901 - accuracy: 0.6585 - val_loss: 1.1705 - val_accuracy: 0.5910\n",
      "Epoch 17/40\n",
      "1563/1563 [==============================] - 36s 23ms/step - loss: 0.9572 - accuracy: 0.6714 - val_loss: 1.1761 - val_accuracy: 0.5887\n",
      "Epoch 18/40\n",
      "1563/1563 [==============================] - 35s 23ms/step - loss: 0.9523 - accuracy: 0.6676 - val_loss: 1.1833 - val_accuracy: 0.5856\n",
      "Epoch 19/40\n",
      "1563/1563 [==============================] - 35s 23ms/step - loss: 0.9315 - accuracy: 0.6768 - val_loss: 1.2393 - val_accuracy: 0.5607\n",
      "Epoch 20/40\n",
      "1563/1563 [==============================] - 35s 23ms/step - loss: 0.9234 - accuracy: 0.6836 - val_loss: 1.2240 - val_accuracy: 0.5746\n",
      "Epoch 21/40\n",
      "1563/1563 [==============================] - 35s 23ms/step - loss: 0.9017 - accuracy: 0.6906 - val_loss: 1.2013 - val_accuracy: 0.5874\n",
      "Epoch 22/40\n",
      "1563/1563 [==============================] - 35s 23ms/step - loss: 0.8884 - accuracy: 0.6923 - val_loss: 1.1996 - val_accuracy: 0.5920\n",
      "Epoch 23/40\n",
      "1563/1563 [==============================] - 35s 23ms/step - loss: 0.8719 - accuracy: 0.7015 - val_loss: 1.1888 - val_accuracy: 0.5941\n",
      "Epoch 24/40\n",
      "1563/1563 [==============================] - 35s 23ms/step - loss: 0.8572 - accuracy: 0.7033 - val_loss: 1.1921 - val_accuracy: 0.5913\n",
      "Epoch 25/40\n",
      "1563/1563 [==============================] - 35s 23ms/step - loss: 0.8409 - accuracy: 0.7118 - val_loss: 1.2098 - val_accuracy: 0.5869\n",
      "Epoch 26/40\n",
      "1563/1563 [==============================] - 35s 23ms/step - loss: 0.8174 - accuracy: 0.7201 - val_loss: 1.1775 - val_accuracy: 0.5949\n",
      "Epoch 27/40\n",
      "1563/1563 [==============================] - 35s 23ms/step - loss: 0.8189 - accuracy: 0.7171 - val_loss: 1.1700 - val_accuracy: 0.6080\n",
      "Epoch 28/40\n",
      "1563/1563 [==============================] - 35s 23ms/step - loss: 0.7964 - accuracy: 0.7284 - val_loss: 1.1959 - val_accuracy: 0.5904\n",
      "Epoch 29/40\n",
      "1563/1563 [==============================] - 36s 23ms/step - loss: 0.7775 - accuracy: 0.7332 - val_loss: 1.1594 - val_accuracy: 0.5994\n",
      "Epoch 30/40\n",
      "1563/1563 [==============================] - 35s 23ms/step - loss: 0.7718 - accuracy: 0.7346 - val_loss: 1.2223 - val_accuracy: 0.5791\n",
      "Epoch 31/40\n",
      "1563/1563 [==============================] - 36s 23ms/step - loss: 0.7646 - accuracy: 0.7371 - val_loss: 1.2087 - val_accuracy: 0.5906\n",
      "Epoch 32/40\n",
      "1563/1563 [==============================] - 36s 23ms/step - loss: 0.7450 - accuracy: 0.7482 - val_loss: 1.1978 - val_accuracy: 0.5899\n",
      "Epoch 33/40\n",
      "1563/1563 [==============================] - 36s 23ms/step - loss: 0.7298 - accuracy: 0.7495 - val_loss: 1.1644 - val_accuracy: 0.6071\n",
      "Epoch 34/40\n",
      "1563/1563 [==============================] - 36s 23ms/step - loss: 0.7150 - accuracy: 0.7573 - val_loss: 1.2147 - val_accuracy: 0.5961\n",
      "Epoch 35/40\n",
      "1563/1563 [==============================] - 36s 23ms/step - loss: 0.6927 - accuracy: 0.7642 - val_loss: 1.2620 - val_accuracy: 0.5855\n",
      "Epoch 36/40\n",
      "1563/1563 [==============================] - 36s 23ms/step - loss: 0.6877 - accuracy: 0.7678 - val_loss: 1.2455 - val_accuracy: 0.5909\n",
      "Epoch 37/40\n",
      "1563/1563 [==============================] - 36s 23ms/step - loss: 0.6782 - accuracy: 0.7685 - val_loss: 1.1650 - val_accuracy: 0.6081\n",
      "Epoch 38/40\n",
      "1563/1563 [==============================] - 36s 23ms/step - loss: 0.6616 - accuracy: 0.7763 - val_loss: 1.2834 - val_accuracy: 0.5763\n",
      "Epoch 39/40\n",
      "1563/1563 [==============================] - 36s 23ms/step - loss: 0.6554 - accuracy: 0.7799 - val_loss: 1.1969 - val_accuracy: 0.6007\n",
      "Epoch 40/40\n",
      "1563/1563 [==============================] - 36s 23ms/step - loss: 0.6288 - accuracy: 0.7888 - val_loss: 1.2337 - val_accuracy: 0.5943\n",
      "[INFO] evaluating network...\n",
      "              precision    recall  f1-score   support\n",
      "\n",
      "    airplane       0.75      0.49      0.59      1000\n",
      "  automobile       0.59      0.83      0.69      1000\n",
      "        bird       0.44      0.50      0.47      1000\n",
      "         cat       0.47      0.31      0.38      1000\n",
      "        deer       0.65      0.37      0.47      1000\n",
      "         dog       0.48      0.60      0.53      1000\n",
      "        frog       0.59      0.80      0.68      1000\n",
      "       horse       0.66      0.70      0.68      1000\n",
      "        ship       0.73      0.71      0.72      1000\n",
      "       truck       0.69      0.62      0.65      1000\n",
      "\n",
      "    accuracy                           0.59     10000\n",
      "   macro avg       0.60      0.59      0.59     10000\n",
      "weighted avg       0.60      0.59      0.59     10000\n",
      "\n"
     ]
    },
    {
     "data": {
      "image/png": "[encoded data removed]",
      "text/plain": [
       "<Figure size 432x288 with 1 Axes>"
      ]
     },
     "metadata": {
      "tags": []
     },
     "output_type": "display_data"
    }
   ],
   "source": [
    "train_cifar()"
   ]
  },
  {
   "cell_type": "code",
   "execution_count": null,
   "metadata": {
    "id": "5Bdv2tDdk4xj"
   },
   "outputs": [],
   "source": []
  }
 ],
 "metadata": {
  "colab": {
   "authorship_tag": "ABX9TyM8sQiUXuFIdF24ssxTnxDx",
   "collapsed_sections": [],
   "mount_file_id": "19SaD2uaLGhy1sKpnaKBtGzBwmat_mhnG",
   "name": "10-keras-shallownet.ipynb",
   "provenance": []
  },
  "kernelspec": {
   "display_name": "Python 3",
   "language": "python",
   "name": "python3"
  },
  "language_info": {
   "codemirror_mode": {
    "name": "ipython",
    "version": 3
   },
   "file_extension": ".py",
   "mimetype": "text/x-python",
   "name": "python",
   "nbconvert_exporter": "python",
   "pygments_lexer": "ipython3",
   "version": "3.8.5"
  }
 },
 "nbformat": 4,
 "nbformat_minor": 1
}
